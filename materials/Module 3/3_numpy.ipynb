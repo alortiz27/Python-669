{
 "cells": [
  {
   "cell_type": "markdown",
   "metadata": {},
   "source": [
    "# Numpy"
   ]
  },
  {
   "cell_type": "code",
   "execution_count": 1,
   "metadata": {},
   "outputs": [],
   "source": [
    "import numpy as np"
   ]
  },
  {
   "cell_type": "markdown",
   "metadata": {},
   "source": [
    "The core of the `numpy` package is the `array` class. Let's examine that first. We can make an array out of a sequence, like a list."
   ]
  },
  {
   "cell_type": "code",
   "execution_count": 2,
   "metadata": {},
   "outputs": [
    {
     "data": {
      "text/plain": [
       "array([1, 2, 3, 4, 5])"
      ]
     },
     "execution_count": 2,
     "metadata": {},
     "output_type": "execute_result"
    }
   ],
   "source": [
    "d = [1, 2, 3, 4, 5]\n",
    "np.array(d)"
   ]
  },
  {
   "cell_type": "markdown",
   "metadata": {},
   "source": [
    "### data types\n",
    "\n",
    "Unlike lists, arrays must be homogeneous, in that the data types of each element must be the same. The data type of the array is upcast to be able to represent all of the data. So, if only one element is a float, all elements will be converted to floats."
   ]
  },
  {
   "cell_type": "code",
   "execution_count": 3,
   "metadata": {},
   "outputs": [
    {
     "data": {
      "text/plain": [
       "array([1.    , 2.    , 3.1415, 4.    , 5.    ])"
      ]
     },
     "execution_count": 3,
     "metadata": {},
     "output_type": "execute_result"
    }
   ],
   "source": [
    "d = [1, 2, 3.1415, 4, 5]\n",
    "np.array(d)"
   ]
  },
  {
   "cell_type": "markdown",
   "metadata": {},
   "source": [
    "You can query the datatype by examining the `dtype` attribute of the array."
   ]
  },
  {
   "cell_type": "code",
   "execution_count": 4,
   "metadata": {},
   "outputs": [
    {
     "data": {
      "text/plain": [
       "dtype('float64')"
      ]
     },
     "execution_count": 4,
     "metadata": {},
     "output_type": "execute_result"
    }
   ],
   "source": [
    "d = [1, 2, 3.1415, 4, 5]\n",
    "arr = np.array(d)\n",
    "arr.dtype"
   ]
  },
  {
   "cell_type": "markdown",
   "metadata": {},
   "source": [
    "Array types may be defined explicity in the call"
   ]
  },
  {
   "cell_type": "code",
   "execution_count": 5,
   "metadata": {},
   "outputs": [
    {
     "data": {
      "text/plain": [
       "array([1., 2., 3., 4., 5.], dtype=float32)"
      ]
     },
     "execution_count": 5,
     "metadata": {},
     "output_type": "execute_result"
    }
   ],
   "source": [
    "arr = np.array([1, 2, 3, 4, 5], dtype='float32')\n",
    "arr"
   ]
  },
  {
   "cell_type": "markdown",
   "metadata": {},
   "source": [
    "Complex numbers are noted with a lowercase `j` or uppercase `J`, like this"
   ]
  },
  {
   "cell_type": "code",
   "execution_count": 6,
   "metadata": {},
   "outputs": [
    {
     "name": "stdout",
     "output_type": "stream",
     "text": [
      "[1.+2.j 3.+4.j]\n"
     ]
    },
    {
     "data": {
      "text/plain": [
       "dtype('complex128')"
      ]
     },
     "execution_count": 6,
     "metadata": {},
     "output_type": "execute_result"
    }
   ],
   "source": [
    "cmplx = np.array([1.0+2.0j, 3.0+4.0J])\n",
    "print(cmplx)\n",
    "cmplx.dtype"
   ]
  },
  {
   "cell_type": "markdown",
   "metadata": {},
   "source": [
    "As we have seen before, arrays are like multidimensional sequences. We can create a 2D array by supplying a list of lists as the argument."
   ]
  },
  {
   "cell_type": "code",
   "execution_count": 7,
   "metadata": {},
   "outputs": [
    {
     "data": {
      "text/plain": [
       "array([[1., 2., 3.],\n",
       "       [4., 5., 6.]])"
      ]
     },
     "execution_count": 7,
     "metadata": {},
     "output_type": "execute_result"
    }
   ],
   "source": [
    "arr = np.array([[1., 2., 3.,], [4., 5., 6.]])\n",
    "arr"
   ]
  },
  {
   "cell_type": "markdown",
   "metadata": {},
   "source": [
    "### Array attributes\n",
    "\n",
    "Arrays have a few other important attributes. Note attributes never have parentheses after them. Methods always do."
   ]
  },
  {
   "cell_type": "code",
   "execution_count": 8,
   "metadata": {},
   "outputs": [
    {
     "data": {
      "text/plain": [
       "6"
      ]
     },
     "execution_count": 8,
     "metadata": {},
     "output_type": "execute_result"
    }
   ],
   "source": [
    "arr.size          # The number of elements in the array"
   ]
  },
  {
   "cell_type": "code",
   "execution_count": 9,
   "metadata": {},
   "outputs": [
    {
     "data": {
      "text/plain": [
       "(2, 3)"
      ]
     },
     "execution_count": 9,
     "metadata": {},
     "output_type": "execute_result"
    }
   ],
   "source": [
    "arr.shape         # The shape of the array (i.e., the size of each dimension)"
   ]
  },
  {
   "cell_type": "code",
   "execution_count": 10,
   "metadata": {},
   "outputs": [
    {
     "data": {
      "text/plain": [
       "2"
      ]
     },
     "execution_count": 10,
     "metadata": {},
     "output_type": "execute_result"
    }
   ],
   "source": [
    "arr.ndim          # The number of dimensions of the array"
   ]
  },
  {
   "cell_type": "markdown",
   "metadata": {},
   "source": [
    "### Setting array shape\n",
    "\n",
    "You can set the `array.shape` attribute to change the shape of the array. This attribute does not change the elements of the array, or how it is stored in memory, just how it is seen."
   ]
  },
  {
   "cell_type": "code",
   "execution_count": 11,
   "metadata": {},
   "outputs": [
    {
     "data": {
      "text/plain": [
       "array([[1., 2.],\n",
       "       [3., 4.],\n",
       "       [5., 6.]])"
      ]
     },
     "execution_count": 11,
     "metadata": {},
     "output_type": "execute_result"
    }
   ],
   "source": [
    "arr.shape = (3, 2)\n",
    "arr"
   ]
  },
  {
   "cell_type": "code",
   "execution_count": 12,
   "metadata": {},
   "outputs": [
    {
     "data": {
      "text/plain": [
       "array([1., 2., 3., 4., 5., 6.])"
      ]
     },
     "execution_count": 12,
     "metadata": {},
     "output_type": "execute_result"
    }
   ],
   "source": [
    "arr.shape = (6,)\n",
    "arr"
   ]
  },
  {
   "cell_type": "markdown",
   "metadata": {},
   "source": [
    "Singleton dimensions add to the dimensionality of an array. The last example was a 1D array (also called a vector), the next are 2D arrays."
   ]
  },
  {
   "cell_type": "code",
   "execution_count": 13,
   "metadata": {},
   "outputs": [
    {
     "data": {
      "text/plain": [
       "array([[1., 2., 3., 4., 5., 6.]])"
      ]
     },
     "execution_count": 13,
     "metadata": {},
     "output_type": "execute_result"
    }
   ],
   "source": [
    "arr.shape = (1, 6)\n",
    "arr   # Note that there are *two* square brackets in the output sequence. This is a row vector."
   ]
  },
  {
   "cell_type": "code",
   "execution_count": 14,
   "metadata": {},
   "outputs": [
    {
     "data": {
      "text/plain": [
       "array([[1.],\n",
       "       [2.],\n",
       "       [3.],\n",
       "       [4.],\n",
       "       [5.],\n",
       "       [6.]])"
      ]
     },
     "execution_count": 14,
     "metadata": {},
     "output_type": "execute_result"
    }
   ],
   "source": [
    "arr.shape = (6, 1)\n",
    "arr   # this is also a 2D array, like a column vector"
   ]
  },
  {
   "cell_type": "markdown",
   "metadata": {},
   "source": [
    "## Array indexing\n",
    "\n",
    "Arrays are indexed in a similar way to sequences, with `start:stop:stride` notation, except that this is used for each dimension in the array. Colons denote all the values in a particular dimension, slices indicate some particular subset of the data in that particular dimension. \n",
    "\n",
    "A common use case is to get a single row or column from a 2D array (a table of data)."
   ]
  },
  {
   "cell_type": "code",
   "execution_count": 15,
   "metadata": {},
   "outputs": [
    {
     "data": {
      "text/plain": [
       "array([[ 0,  1,  2,  3,  4,  5,  6,  7,  8,  9],\n",
       "       [10, 11, 12, 13, 14, 15, 16, 17, 18, 19],\n",
       "       [20, 21, 22, 23, 24, 25, 26, 27, 28, 29],\n",
       "       [30, 31, 32, 33, 34, 35, 36, 37, 38, 39],\n",
       "       [40, 41, 42, 43, 44, 45, 46, 47, 48, 49],\n",
       "       [50, 51, 52, 53, 54, 55, 56, 57, 58, 59]])"
      ]
     },
     "execution_count": 15,
     "metadata": {},
     "output_type": "execute_result"
    }
   ],
   "source": [
    "arr = np.arange(60).reshape(6, 10)\n",
    "arr"
   ]
  },
  {
   "cell_type": "code",
   "execution_count": 16,
   "metadata": {},
   "outputs": [
    {
     "data": {
      "text/plain": [
       "array([ 4, 14, 24, 34, 44, 54])"
      ]
     },
     "execution_count": 16,
     "metadata": {},
     "output_type": "execute_result"
    }
   ],
   "source": [
    "arr[:, 4]   # the 5th column"
   ]
  },
  {
   "cell_type": "code",
   "execution_count": 17,
   "metadata": {},
   "outputs": [
    {
     "data": {
      "text/plain": [
       "array([20, 21, 22, 23, 24, 25, 26, 27, 28, 29])"
      ]
     },
     "execution_count": 17,
     "metadata": {},
     "output_type": "execute_result"
    }
   ],
   "source": [
    "arr[2, :]   # the 3rd row"
   ]
  },
  {
   "cell_type": "code",
   "execution_count": 18,
   "metadata": {},
   "outputs": [
    {
     "data": {
      "text/plain": [
       "array([20, 21, 22, 23, 24, 25, 26, 27, 28, 29])"
      ]
     },
     "execution_count": 18,
     "metadata": {},
     "output_type": "execute_result"
    }
   ],
   "source": [
    "arr[2]     # Trailing colons do not need to be explicitly typed. This is equivalent to the last example."
   ]
  },
  {
   "cell_type": "code",
   "execution_count": 19,
   "metadata": {},
   "outputs": [
    {
     "data": {
      "text/plain": [
       "47"
      ]
     },
     "execution_count": 19,
     "metadata": {},
     "output_type": "execute_result"
    }
   ],
   "source": [
    "arr[4, 7]   # an individual element in the table"
   ]
  },
  {
   "cell_type": "markdown",
   "metadata": {},
   "source": [
    "---\n",
    "### *Exercise*\n",
    "\n",
    "> Slices can be combined in any way. Define a new array or use array `arr` and grab out every other row and the 4th column and beyond.\n",
    "\n",
    "---"
   ]
  },
  {
   "cell_type": "code",
   "execution_count": null,
   "metadata": {},
   "outputs": [],
   "source": []
  },
  {
   "cell_type": "markdown",
   "metadata": {},
   "source": [
    "### Conventions concerning arrays containing spatio-temporal information\n",
    "\n",
    "Generally, you will want to think of arrays as representing dimensions in space and time. The conventional way to think of this is that the dimensions are $(t, z, y, x)$; missing dimensions are omitted. This will help make plotting and analysis easier. Some examples might be:\n",
    "\n",
    "    temp[:, :, :, :]     # A 4D array (time, height, latitude, longitude)\n",
    "    press[:, :]          # A 2D array (time, height)\n",
    "    humid[:, :]          # A 2D array (latitude, longitude)"
   ]
  },
  {
   "cell_type": "markdown",
   "metadata": {},
   "source": [
    "## Array methods\n",
    "\n",
    "Arrays have a number of methods. Let's take a look at the `mean` method as an example. "
   ]
  },
  {
   "cell_type": "code",
   "execution_count": 20,
   "metadata": {},
   "outputs": [
    {
     "data": {
      "text/plain": [
       "3.5"
      ]
     },
     "execution_count": 20,
     "metadata": {},
     "output_type": "execute_result"
    }
   ],
   "source": [
    "arr = np.array([[1., 2., 3.,], [4., 5., 6.]])  # reset the array to our 2x3 array.\n",
    "\n",
    "arr.mean()        # The mean of all of the elements in the array"
   ]
  },
  {
   "cell_type": "markdown",
   "metadata": {},
   "source": [
    "`Mean` takes the optional argument `axis` that can be used to take the mean along a single axis of the array. Just like with indexing, the axes are reference in a zero-based system; `axis=0` means the first dimension. "
   ]
  },
  {
   "cell_type": "code",
   "execution_count": 21,
   "metadata": {},
   "outputs": [
    {
     "data": {
      "text/plain": [
       "array([2.5, 3.5, 4.5])"
      ]
     },
     "execution_count": 21,
     "metadata": {},
     "output_type": "execute_result"
    }
   ],
   "source": [
    "arr.mean(axis=0)  # The mean "
   ]
  },
  {
   "cell_type": "markdown",
   "metadata": {},
   "source": [
    "In this case, there are two rows in the first dimension, and `arr.mean(axis=0)` takes the average in the 'row' direction, resulting in a 1D array that is the average across the rows."
   ]
  },
  {
   "cell_type": "markdown",
   "metadata": {},
   "source": [
    "---\n",
    "### *Exercise*\n",
    "\n",
    "> Find the mean of the array in the 'column' direction, along `axis=1`.\n",
    "\n",
    "> Use the `sum` method of the array class to get the sum of the numbers in each column. The result should be a 1D array with three elements.\n",
    "\n",
    "---"
   ]
  },
  {
   "cell_type": "code",
   "execution_count": null,
   "metadata": {},
   "outputs": [],
   "source": []
  },
  {
   "cell_type": "markdown",
   "metadata": {
    "collapsed": true
   },
   "source": [
    "You can also use the `reshape` method to change the shape of an array."
   ]
  },
  {
   "cell_type": "code",
   "execution_count": 22,
   "metadata": {},
   "outputs": [
    {
     "data": {
      "text/plain": [
       "array([[1., 2., 3.],\n",
       "       [4., 5., 6.]])"
      ]
     },
     "execution_count": 22,
     "metadata": {},
     "output_type": "execute_result"
    }
   ],
   "source": [
    "arr"
   ]
  },
  {
   "cell_type": "code",
   "execution_count": 23,
   "metadata": {},
   "outputs": [
    {
     "data": {
      "text/plain": [
       "array([[1., 2.],\n",
       "       [3., 4.],\n",
       "       [5., 6.]])"
      ]
     },
     "execution_count": 23,
     "metadata": {},
     "output_type": "execute_result"
    }
   ],
   "source": [
    "arr.reshape(3, 2)"
   ]
  },
  {
   "cell_type": "markdown",
   "metadata": {},
   "source": [
    "You can find the mininum and maximum of an array with the `min` and `max` methods. Sometimes it is useful to find the indices of these minima and maxima. For this use `argmin` and `argmax`, like"
   ]
  },
  {
   "cell_type": "code",
   "execution_count": 24,
   "metadata": {},
   "outputs": [
    {
     "name": "stdout",
     "output_type": "stream",
     "text": [
      "2 0.8543847241182848 0.8543847241182848\n"
     ]
    }
   ],
   "source": [
    "x = np.random.rand(10)\n",
    "imax = x.argmax()\n",
    "print(imax, x[imax], x.max())"
   ]
  },
  {
   "cell_type": "markdown",
   "metadata": {},
   "source": [
    "## Creating standard arrays\n",
    "\n",
    "There are a few standard arrays, for example, arrays filled with zeros or ones (or empty). Here are some examples of creating arrays."
   ]
  },
  {
   "cell_type": "code",
   "execution_count": 25,
   "metadata": {},
   "outputs": [
    {
     "data": {
      "text/plain": [
       "array([[ True,  True,  True],\n",
       "       [ True,  True,  True]])"
      ]
     },
     "execution_count": 25,
     "metadata": {},
     "output_type": "execute_result"
    }
   ],
   "source": [
    "o = np.ones((3, 4, 5))    # The argument is a shape, so is a tuple with the length of each dimension as an argument\n",
    "b = np.ones((2, 3), dtype=np.bool)\n",
    "z = np.zeros((2, 3), dtype=np.float32)\n",
    "\n",
    "b"
   ]
  },
  {
   "cell_type": "markdown",
   "metadata": {},
   "source": [
    "You can also create these arrays with the same shape and datatype of the input array using `np.ones_like` and `np.zeros_like`."
   ]
  },
  {
   "cell_type": "code",
   "execution_count": 26,
   "metadata": {},
   "outputs": [
    {
     "data": {
      "text/plain": [
       "array([[False, False, False],\n",
       "       [False, False, False]])"
      ]
     },
     "execution_count": 26,
     "metadata": {},
     "output_type": "execute_result"
    }
   ],
   "source": [
    "zb = np.zeros_like(b)\n",
    "zb"
   ]
  },
  {
   "cell_type": "markdown",
   "metadata": {},
   "source": [
    "You can also create a diagonal array with a given vector along the diagonal. These can be offset with an optional argument `k` (default=0). This example creates a tri-diagonal array similar to that used for finite difference calculations"
   ]
  },
  {
   "cell_type": "code",
   "execution_count": 27,
   "metadata": {},
   "outputs": [
    {
     "data": {
      "text/plain": [
       "array([[-2.,  1.,  0.,  0.,  0.,  0.],\n",
       "       [ 1., -2.,  1.,  0.,  0.,  0.],\n",
       "       [ 0.,  1., -2.,  1.,  0.,  0.],\n",
       "       [ 0.,  0.,  1., -2.,  1.,  0.],\n",
       "       [ 0.,  0.,  0.,  1., -2.,  1.],\n",
       "       [ 0.,  0.,  0.,  0.,  1., -2.]])"
      ]
     },
     "execution_count": 27,
     "metadata": {},
     "output_type": "execute_result"
    }
   ],
   "source": [
    "np.diag(-2*np.ones(6)) + np.diag(np.ones(5), k=-1) + np.diag(np.ones(5), k=1)"
   ]
  },
  {
   "cell_type": "markdown",
   "metadata": {},
   "source": [
    "There are also a number of ways to generate sequences of numbers.\n",
    " - `np.arange([start,] stop [[, stride]])` Create a sequence of numbers, similar to `range`\n",
    " - `np.linspace(min, max, length)` Create a uniform series of specified `length` between `min` and `max`, inclusive.\n",
    " - `np.logspace(minpow, maxpow, length)` Create a uniform series in logspace of specified `length` between `10**minpow` and `10**maxpow`, inclusive.\n",
    " "
   ]
  },
  {
   "cell_type": "code",
   "execution_count": 28,
   "metadata": {},
   "outputs": [
    {
     "data": {
      "text/plain": [
       "array([0., 1., 2., 3., 4., 5., 6., 7., 8., 9.])"
      ]
     },
     "execution_count": 28,
     "metadata": {},
     "output_type": "execute_result"
    }
   ],
   "source": [
    "np.arange(10.)"
   ]
  },
  {
   "cell_type": "code",
   "execution_count": 29,
   "metadata": {},
   "outputs": [
    {
     "data": {
      "text/plain": [
       "array([2, 4, 6, 8])"
      ]
     },
     "execution_count": 29,
     "metadata": {},
     "output_type": "execute_result"
    }
   ],
   "source": [
    "np.arange(2, 10, 2)"
   ]
  },
  {
   "cell_type": "code",
   "execution_count": 30,
   "metadata": {},
   "outputs": [
    {
     "data": {
      "text/plain": [
       "array([2.   , 2.125, 2.25 , 2.375, 2.5  , 2.625, 2.75 , 2.875, 3.   ,\n",
       "       3.125, 3.25 , 3.375, 3.5  , 3.625, 3.75 , 3.875, 4.   ])"
      ]
     },
     "execution_count": 30,
     "metadata": {},
     "output_type": "execute_result"
    }
   ],
   "source": [
    "np.linspace(2, 4, 17)"
   ]
  },
  {
   "cell_type": "markdown",
   "metadata": {},
   "source": [
    "You can create arrays of random numbers easily with methods in `np.random`.\n",
    "\n",
    "* `np.random.rand(d0, d1, ..., d2)`: Create an array of the given shape `d0, ..., dn` and populate it with random samples from a uniform distribution over [0,1).\n",
    "* `np.random.randint(low, high=None, size=None)`: Return random integers from `low` (inclusive) to `high` (exclusive). If `high` is None then return integers from [0, `low`). `size` is an int or tuple of ints to give the output shape.\n",
    "* `np.randon.randn(d0, d1, ..., d2)`: Create an array of the given shape `d0, ..., dn` and populate it with random samples from the \"standard normal\" distribution.\n",
    "* `np.random.random(size=None)`: Return random floats of `size` (int or tuple of ints) in the interval [0, 1)."
   ]
  },
  {
   "cell_type": "code",
   "execution_count": 31,
   "metadata": {},
   "outputs": [
    {
     "data": {
      "text/plain": [
       "array([[0.97933169, 0.8412156 , 0.44210109, 0.19383956],\n",
       "       [0.06341264, 0.33351528, 0.14418935, 0.00814402]])"
      ]
     },
     "execution_count": 31,
     "metadata": {},
     "output_type": "execute_result"
    }
   ],
   "source": [
    "np.random.rand(2, 4)"
   ]
  },
  {
   "cell_type": "code",
   "execution_count": 32,
   "metadata": {},
   "outputs": [
    {
     "data": {
      "text/plain": [
       "array([[15, 13, 30, 45],\n",
       "       [15, 34, 23, 35]])"
      ]
     },
     "execution_count": 32,
     "metadata": {},
     "output_type": "execute_result"
    }
   ],
   "source": [
    "np.random.randint(1, 50, (2, 4))"
   ]
  },
  {
   "cell_type": "markdown",
   "metadata": {},
   "source": [
    "---\n",
    "### *Exercise*\n",
    "\n",
    "> Create an array of random floats between 0 and 1 that has dimension 5 x 3. Calculate the standard deviation of the columns of the array. Then add to this a `linspace` array of the appropriate size that contains numbers between 10 and 15.\n",
    "\n",
    "---"
   ]
  },
  {
   "cell_type": "code",
   "execution_count": null,
   "metadata": {},
   "outputs": [],
   "source": []
  },
  {
   "cell_type": "markdown",
   "metadata": {},
   "source": [
    "## Combining and splitting arrays\n",
    "\n",
    "Generally, arrays can be combined with the `np.concatenate` function. The arguments are a sequence of arrays to join, and the axis along which to join them (default=0).\n",
    "\n",
    "\n"
   ]
  },
  {
   "cell_type": "code",
   "execution_count": 33,
   "metadata": {},
   "outputs": [
    {
     "name": "stdout",
     "output_type": "stream",
     "text": [
      "(8, 5, 6)\n",
      "\n",
      "(8, 5, 6)\n",
      "(4, 10, 6)\n",
      "(4, 5, 12)\n"
     ]
    }
   ],
   "source": [
    "x = np.random.rand(4, 5, 6)\n",
    "y = np.random.rand(4, 5, 6)\n",
    "\n",
    "print(np.concatenate((x, y)).shape)\n",
    "print()\n",
    "print(np.concatenate((x, y), axis=0).shape)\n",
    "print(np.concatenate((x, y), axis=1).shape)\n",
    "print(np.concatenate((x, y), axis=2).shape)\n"
   ]
  },
  {
   "cell_type": "markdown",
   "metadata": {},
   "source": [
    "There are a number of convenience functions that act like concatenate for specific axes:\n",
    "\n",
    " - `np.vstack` – vertical stack (stack along axis=0)\n",
    " - `np.hstack` – horizontal stack (stack along axis=1)\n",
    " - `np.dstack` – depth stack (stack along axis=2)\n"
   ]
  },
  {
   "cell_type": "code",
   "execution_count": 34,
   "metadata": {},
   "outputs": [
    {
     "name": "stdout",
     "output_type": "stream",
     "text": [
      "(8, 5, 6)\n",
      "(4, 10, 6)\n",
      "(4, 5, 12)\n"
     ]
    }
   ],
   "source": [
    "print(np.vstack((x, y)).shape)\n",
    "print(np.hstack((x, y)).shape)\n",
    "print(np.dstack((x, y)).shape)"
   ]
  },
  {
   "cell_type": "markdown",
   "metadata": {},
   "source": [
    "Likewise, arrays can be split with `np.split` or `np.array_split`. There are also convenience functions to split horizontally, vertically, and with depth."
   ]
  },
  {
   "cell_type": "code",
   "execution_count": 35,
   "metadata": {},
   "outputs": [
    {
     "data": {
      "text/plain": [
       "[(3, 2, 5), (3, 2, 5), (3, 2, 5), (3, 2, 5)]"
      ]
     },
     "execution_count": 35,
     "metadata": {},
     "output_type": "execute_result"
    }
   ],
   "source": [
    "x = np.random.rand(12, 2, 5)\n",
    "[a.shape for a in np.split(x, 4, axis=0)]"
   ]
  },
  {
   "cell_type": "markdown",
   "metadata": {},
   "source": [
    "---\n",
    "### *Exercise*\n",
    "\n",
    "> Create an array, A, of shape (40, 50, 60). The array slices for first ten entries in the axis=1 direction of A should be filled with 1's, for the next ten filled with 2's, and on up to 5's.\n",
    "\n",
    "> Split it along axis=1 into five sections.\n",
    "\n",
    "> Concatenate two of these back together along axis 1.\n",
    "\n",
    "> What is the resulting shape of each array?  _[Advanced: can you calculate this on one line?]_\n",
    "\n",
    "---"
   ]
  },
  {
   "cell_type": "code",
   "execution_count": null,
   "metadata": {
    "scrolled": true
   },
   "outputs": [],
   "source": []
  },
  {
   "cell_type": "markdown",
   "metadata": {},
   "source": [
    "## Finding values\n",
    "\n",
    "There are a number of ways to find values in an array. The simplest is always to create a boolean array, like"
   ]
  },
  {
   "cell_type": "code",
   "execution_count": 36,
   "metadata": {},
   "outputs": [
    {
     "name": "stdout",
     "output_type": "stream",
     "text": [
      "[[0.88218413 0.11941793 0.56426898 0.10745389 0.16788938]\n",
      " [0.03706232 0.23345022 0.96668672 0.43419534 0.60182722]\n",
      " [0.59004368 0.25055649 0.85829665 0.81465313 0.46608578]\n",
      " [0.8644219  0.37140038 0.40825581 0.04305937 0.44408972]\n",
      " [0.68734153 0.89093474 0.84676509 0.9031388  0.70068568]]\n",
      "[[ True False  True False False]\n",
      " [False False  True False  True]\n",
      " [ True False  True  True False]\n",
      " [ True False False False False]\n",
      " [ True  True  True  True  True]]\n"
     ]
    }
   ],
   "source": [
    "x = np.random.rand(5, 5)\n",
    "print(x)\n",
    "ind = x > 0.5\n",
    "print(ind)"
   ]
  },
  {
   "cell_type": "markdown",
   "metadata": {},
   "source": [
    "The boolean array can be used as an index to other arrays. Note this will return a 1D array, no matter what dimension the original arrays are, because there is no way to know what structure the `True` values have."
   ]
  },
  {
   "cell_type": "code",
   "execution_count": 60,
   "metadata": {},
   "outputs": [
    {
     "data": {
      "text/plain": [
       "array([ 0.63127609,  0.775866  ,  0.71526395,  0.77716728,  0.66380859,\n",
       "        0.57566832,  0.77979431,  0.79410003,  0.81556793,  0.82887742])"
      ]
     },
     "execution_count": 60,
     "metadata": {},
     "output_type": "execute_result"
    }
   ],
   "source": [
    "x = np.random.rand(5, 5)\n",
    "y = np.sin(x)\n",
    "\n",
    "y[x > 0.5]\n",
    "# or, equivalently, as two lines\n",
    "idx = x > 0.5\n",
    "y[idx]"
   ]
  },
  {
   "cell_type": "markdown",
   "metadata": {},
   "source": [
    "To get the indices of the places where the conditional is true (i.e., the locations of the `True` values in the boolean array), use the `np.where` command. "
   ]
  },
  {
   "cell_type": "code",
   "execution_count": 37,
   "metadata": {},
   "outputs": [
    {
     "data": {
      "text/plain": [
       "(array([0, 0, 1, 1, 1, 2, 2, 2, 2, 4, 4], dtype=int64),\n",
       " array([0, 3, 1, 2, 3, 0, 1, 2, 4, 0, 2], dtype=int64))"
      ]
     },
     "execution_count": 37,
     "metadata": {},
     "output_type": "execute_result"
    }
   ],
   "source": [
    "x = np.random.rand(5, 5)\n",
    "idx = np.where(x > 0.5)\n",
    "idx"
   ]
  },
  {
   "cell_type": "markdown",
   "metadata": {},
   "source": [
    "Note that `np.where` always returns a tuple of indices for each dimension. This is a little strange for 1D arrays, but is done for consistency across all input values. Often, you will want to explicitly pull out the (single) array of indices from the tuple, like"
   ]
  },
  {
   "cell_type": "code",
   "execution_count": 38,
   "metadata": {},
   "outputs": [
    {
     "name": "stdout",
     "output_type": "stream",
     "text": [
      "[2 3 4 5 6 7 8 9]\n"
     ]
    }
   ],
   "source": [
    "x = np.random.rand(10)\n",
    "idx = np.where(x>0.5)[0]\n",
    "print(idx)"
   ]
  },
  {
   "cell_type": "markdown",
   "metadata": {},
   "source": [
    "_What happens with the [0] is missing behind the call to `where`?_"
   ]
  },
  {
   "cell_type": "markdown",
   "metadata": {},
   "source": [
    "---\n",
    "### *Exercise*\n",
    "\n",
    "> You can also use these calculated indices, or boolean matrices on the left hand side for assignment.\n",
    "\n",
    "> Create a 10x10 random array, with values between 0 and 1. Replace all of the numbers smaller than 0.5 with zero.\n",
    "\n",
    "> Do this first not using `where` and then do it using `where`.\n",
    "\n",
    "---"
   ]
  },
  {
   "cell_type": "code",
   "execution_count": null,
   "metadata": {},
   "outputs": [],
   "source": []
  },
  {
   "cell_type": "markdown",
   "metadata": {
    "collapsed": true
   },
   "source": [
    "## Array views\n",
    "\n",
    "The data for an array may be stored in memory using `C` or `FORTRAN` ordered memory. Typically, there is no need to think about this, some details can be found [here](http://docs.scipy.org/doc/numpy-1.10.0/reference/internals.html).\n",
    "\n",
    "However, it is important to remember that subsets of an array can produce a different 'view' of the array that addresses the same memory as the original array. This can lead to some unexpected behaviors. One way to think of this is that assignment in Python is more like a C-pointer (i.e., a reference to a memory location) than an actual value."
   ]
  },
  {
   "cell_type": "code",
   "execution_count": 39,
   "metadata": {},
   "outputs": [
    {
     "name": "stdout",
     "output_type": "stream",
     "text": [
      "[0. 1. 2. 3. 4. 5. 6. 7. 8. 9.]\n",
      "[0. 2. 4. 6. 8.]\n"
     ]
    }
   ],
   "source": [
    "a = np.arange(10.0)\n",
    "b = a[::2]\n",
    "print(a)\n",
    "print(b)"
   ]
  },
  {
   "cell_type": "code",
   "execution_count": 40,
   "metadata": {},
   "outputs": [
    {
     "name": "stdout",
     "output_type": "stream",
     "text": [
      "[   0.    1.    2.    3. -999.    5.    6.    7.    8.    9.]\n",
      "[   0.    2. -999.    6.    8.]\n"
     ]
    }
   ],
   "source": [
    "a[4] = -999   # this will modify b as well...\n",
    "print(a)\n",
    "print(b)"
   ]
  },
  {
   "cell_type": "code",
   "execution_count": 41,
   "metadata": {},
   "outputs": [
    {
     "name": "stdout",
     "output_type": "stream",
     "text": [
      "[   0.    1.    2.    3. -999.    5.    6.    7. -888.    9.]\n",
      "[   0.    2. -999.    6. -888.]\n"
     ]
    }
   ],
   "source": [
    "b[-1] = -888  # this will modify a as well...\n",
    "print(a)\n",
    "print(b)"
   ]
  },
  {
   "cell_type": "markdown",
   "metadata": {},
   "source": [
    "Normally, this will not be a problem, but if you need to make sure that a subset of an array has it's own memory, make sure you make a `copy` of the array, like"
   ]
  },
  {
   "cell_type": "code",
   "execution_count": 42,
   "metadata": {},
   "outputs": [
    {
     "name": "stdout",
     "output_type": "stream",
     "text": [
      "[   0.    1.    2.    3. -999.    5.    6.    7.    8.    9.]\n",
      "[0. 2. 4. 6. 8.]\n"
     ]
    }
   ],
   "source": [
    "a = np.arange(10.0)\n",
    "b = a.copy()[::2]     # or np.copy(a)\n",
    "a[4] = -999   # this will NOT modify b now\n",
    "print(a)\n",
    "print(b)"
   ]
  },
  {
   "cell_type": "markdown",
   "metadata": {},
   "source": [
    "## Array broadcasting\n",
    "\n",
    "(Largely taken from [SciPy docs](https://docs.scipy.org/doc/numpy-1.10.0/user/basics.broadcasting.html))\n",
    "\n",
    "Generally arrays should be the same shape for them to be multiplied together. "
   ]
  },
  {
   "cell_type": "code",
   "execution_count": 43,
   "metadata": {},
   "outputs": [
    {
     "data": {
      "text/plain": [
       "array([2., 4., 6.])"
      ]
     },
     "execution_count": 43,
     "metadata": {},
     "output_type": "execute_result"
    }
   ],
   "source": [
    "a = np.array([1.0, 2.0, 3.0])\n",
    "b = np.array([2.0, 2.0, 2.0])\n",
    "a * b"
   ]
  },
  {
   "cell_type": "markdown",
   "metadata": {},
   "source": [
    "The term broadcasting describes how `numpy` treats arrays with different shapes during arithmetic operations. Subject to certain constraints, the smaller array is “broadcast” across the larger array so that they have compatible shapes. Broadcasting provides a means of vectorizing array operations so that looping occurs in C instead of Python. It does this without making needless copies of data and usually leads to efficient algorithm implementations.\n",
    "\n",
    "For example, the simplest broadcasting example occurs when an array and a scalar value are combined in an operation:"
   ]
  },
  {
   "cell_type": "code",
   "execution_count": 44,
   "metadata": {},
   "outputs": [
    {
     "data": {
      "text/plain": [
       "array([2., 4., 6.])"
      ]
     },
     "execution_count": 44,
     "metadata": {},
     "output_type": "execute_result"
    }
   ],
   "source": [
    "a = np.array([1.0, 2.0, 3.0])\n",
    "b = 2.0\n",
    "a * b"
   ]
  },
  {
   "cell_type": "markdown",
   "metadata": {},
   "source": [
    "The result is equivalent to the previous example where b was an array. We can think of the scalar b being stretched during the arithmetic operation into an array with the same shape as a. The new elements in b are simply copies of the original scalar. The stretching analogy is only conceptual. NumPy is smart enough to use the original scalar value without actually making copies, so that broadcasting operations are as memory and computationally efficient as possible.\n",
    "\n",
    "The code in the second example is more efficient than that in the first because broadcasting moves less memory around during the multiplication (b is a scalar rather than an array)."
   ]
  },
  {
   "cell_type": "markdown",
   "metadata": {},
   "source": [
    "### General Broadcasting Rules\n",
    "\n",
    "When operating on two arrays, NumPy compares their shapes element-wise. It starts with the trailing dimensions, and works its way forward. Two dimensions are compatible when\n",
    "\n",
    "1. they are equal, or\n",
    "1. one of them is 1\n",
    "\n",
    "If these conditions are not met, a ValueError: frames are not aligned exception is thrown, indicating that the arrays have incompatible shapes. The size of the resulting array is the maximum size along each dimension of the input arrays.\n",
    "\n",
    "Arrays do not need to have the same number of dimensions. For example, if you have a 256x256x3 array of RGB values, and you want to scale each color in the image by a different value, you can multiply the image by a one-dimensional array with 3 values. Lining up the sizes of the trailing axes of these arrays according to the broadcast rules, shows that they are compatible:\n",
    "\n",
    "    Image  (3d array): 256 x 256 x 3\n",
    "    Scale  (1d array):             3\n",
    "    Result (3d array): 256 x 256 x 3\n",
    "\n",
    "When either of the dimensions compared is one, the other is used. In other words, dimensions with size 1 are stretched or “copied” to match the other.\n",
    "\n",
    "In the following example, both the A and B arrays have axes with length one that are expanded to a larger size during the broadcast operation:\n",
    "\n",
    "    A      (4d array):  8 x 1 x 6 x 1\n",
    "    B      (3d array):      7 x 1 x 5\n",
    "    Result (4d array):  8 x 7 x 6 x 5\n",
    "    \n",
    "Here are some more examples:\n",
    "\n",
    "    A      (2d array):  5 x 4\n",
    "    B      (1d array):      1\n",
    "    Result (2d array):  5 x 4\n",
    "\n",
    "    A      (2d array):  5 x 4\n",
    "    B      (1d array):      4\n",
    "    Result (2d array):  5 x 4\n",
    "\n",
    "    A      (3d array):  15 x 3 x 5\n",
    "    B      (3d array):  15 x 1 x 5\n",
    "    Result (3d array):  15 x 3 x 5\n",
    "\n",
    "    A      (3d array):  15 x 3 x 5\n",
    "    B      (2d array):       3 x 5\n",
    "    Result (3d array):  15 x 3 x 5\n",
    "\n",
    "    A      (3d array):  15 x 3 x 5\n",
    "    B      (2d array):       3 x 1\n",
    "    Result (3d array):  15 x 3 x 5\n",
    "    \n",
    "Let's create an example with arrays of random numbers."
   ]
  },
  {
   "cell_type": "code",
   "execution_count": 45,
   "metadata": {},
   "outputs": [
    {
     "name": "stdout",
     "output_type": "stream",
     "text": [
      "(15, 3, 5) (3, 1)\n",
      "(15, 3, 5)\n"
     ]
    }
   ],
   "source": [
    "A = np.random.rand(15, 3, 5)\n",
    "B = np.random.rand(3, 1)\n",
    "print(A.shape, B.shape)\n",
    "\n",
    "Result = A * B\n",
    "print(Result.shape)"
   ]
  },
  {
   "cell_type": "markdown",
   "metadata": {},
   "source": [
    "Here are examples of shapes that do not broadcast:\n",
    "\n",
    "    A      (1d array):  3\n",
    "    B      (1d array):  4 # trailing dimensions do not match\n",
    "\n",
    "    A      (2d array):      2 x 1\n",
    "    B      (3d array):  8 x 4 x 3 # second from last dimensions mismatched"
   ]
  },
  {
   "cell_type": "markdown",
   "metadata": {},
   "source": [
    "---\n",
    "### *Exercise*\n",
    "\n",
    "    a = np.random.rand(5, 7, 1, 8)\n",
    "    b = np.random.rand(8)\n",
    "    c = np.random.rand(7, 3, 8)\n",
    "    d = np.random.rand(5, 1, 3, 1)\n",
    "\n",
    "> Experiment with multiplying combinations of the arrays above together. Try to predict the resulting shape beforehand.\n",
    "\n",
    "---"
   ]
  },
  {
   "cell_type": "code",
   "execution_count": null,
   "metadata": {},
   "outputs": [],
   "source": []
  },
  {
   "cell_type": "markdown",
   "metadata": {},
   "source": [
    "Notice that the rules for broadcasting are based on the location of singleton dimensions. Singleton dimensions are implied forward (to the left), but not backward (to the right). So, the first example here works but not the second:\n",
    "\n",
    "    A      (2d array):  5 x 4\n",
    "    B      (1d array):      4\n",
    "    Result (2d array):  5 x 4\n",
    "\n",
    "    A      (2d array):  5 x 4\n",
    "    B      (1d array):  5\n",
    "\n",
    "\n",
    "*Compare with large set of examples above. How can the bottom example here be fixed?*"
   ]
  },
  {
   "cell_type": "markdown",
   "metadata": {},
   "source": [
    "This problem can be fixed by creating new singleton dimensions in arrays. This can be done by putting `np.newaxis` in the appropriate space when indexing the array. For example:"
   ]
  },
  {
   "cell_type": "code",
   "execution_count": 46,
   "metadata": {},
   "outputs": [
    {
     "ename": "ValueError",
     "evalue": "operands could not be broadcast together with shapes (5,4) (5,) ",
     "output_type": "error",
     "traceback": [
      "\u001b[1;31m---------------------------------------------------------------------------\u001b[0m",
      "\u001b[1;31mValueError\u001b[0m                                Traceback (most recent call last)",
      "\u001b[1;32m<ipython-input-46-1e98abfabd99>\u001b[0m in \u001b[0;36m<module>\u001b[1;34m\u001b[0m\n\u001b[0;32m      1\u001b[0m \u001b[0mA\u001b[0m \u001b[1;33m=\u001b[0m \u001b[0mnp\u001b[0m\u001b[1;33m.\u001b[0m\u001b[0mrandom\u001b[0m\u001b[1;33m.\u001b[0m\u001b[0mrand\u001b[0m\u001b[1;33m(\u001b[0m\u001b[1;36m5\u001b[0m\u001b[1;33m,\u001b[0m \u001b[1;36m4\u001b[0m\u001b[1;33m)\u001b[0m\u001b[1;33m\u001b[0m\u001b[1;33m\u001b[0m\u001b[0m\n\u001b[0;32m      2\u001b[0m \u001b[0mB\u001b[0m \u001b[1;33m=\u001b[0m \u001b[0mnp\u001b[0m\u001b[1;33m.\u001b[0m\u001b[0mrandom\u001b[0m\u001b[1;33m.\u001b[0m\u001b[0mrand\u001b[0m\u001b[1;33m(\u001b[0m\u001b[1;36m5\u001b[0m\u001b[1;33m)\u001b[0m\u001b[1;33m\u001b[0m\u001b[1;33m\u001b[0m\u001b[0m\n\u001b[1;32m----> 3\u001b[1;33m \u001b[0mA\u001b[0m\u001b[1;33m*\u001b[0m\u001b[0mB\u001b[0m\u001b[1;33m\u001b[0m\u001b[1;33m\u001b[0m\u001b[0m\n\u001b[0m",
      "\u001b[1;31mValueError\u001b[0m: operands could not be broadcast together with shapes (5,4) (5,) "
     ]
    }
   ],
   "source": [
    "A = np.random.rand(5, 4)\n",
    "B = np.random.rand(5)\n",
    "A*B"
   ]
  },
  {
   "cell_type": "code",
   "execution_count": 47,
   "metadata": {},
   "outputs": [
    {
     "name": "stdout",
     "output_type": "stream",
     "text": [
      "(5,)\n",
      "(5, 1)\n"
     ]
    }
   ],
   "source": [
    "print(B.shape)\n",
    "print(B[:,np.newaxis].shape)"
   ]
  },
  {
   "cell_type": "code",
   "execution_count": 48,
   "metadata": {},
   "outputs": [
    {
     "data": {
      "text/plain": [
       "(5, 4)"
      ]
     },
     "execution_count": 48,
     "metadata": {},
     "output_type": "execute_result"
    }
   ],
   "source": [
    "(A*B[:,np.newaxis]).shape"
   ]
  },
  {
   "cell_type": "markdown",
   "metadata": {},
   "source": [
    "---\n",
    "### *Exercise*\n",
    "\n",
    "> Multiply `b = np.random.rand(8)` and `c = np.random.rand(8, 3, 7)`. What is another way you could accomplish this calculation besides using `newaxis`?\n",
    "\n",
    "---"
   ]
  },
  {
   "cell_type": "code",
   "execution_count": null,
   "metadata": {},
   "outputs": [],
   "source": []
  },
  {
   "cell_type": "markdown",
   "metadata": {},
   "source": [
    "---\n",
    "### *Exercise*\n",
    "\n",
    "    b = np.random.rand(2)\n",
    "    c = np.random.rand(2, 3)\n",
    "    \n",
    "> Concatenate arrays `b` and `c`. Along which axis would it make sense to concatenate, given the arrays dimensions? Do you need to make any changes to the arrays to get this to work?\n",
    "\n",
    "---"
   ]
  },
  {
   "cell_type": "code",
   "execution_count": null,
   "metadata": {},
   "outputs": [],
   "source": []
  },
  {
   "cell_type": "markdown",
   "metadata": {},
   "source": [
    "## Flattening arrays with `a.flat` and `a.flatten()`\n",
    "\n",
    "There are two basic ways to turn any array into a 1D array. They are slightly different.\n",
    "\n",
    "`a.flatten()` returns a copy of an array, in one dimension."
   ]
  },
  {
   "cell_type": "code",
   "execution_count": 49,
   "metadata": {},
   "outputs": [
    {
     "name": "stdout",
     "output_type": "stream",
     "text": [
      "[[ 0  1  2  3]\n",
      " [ 4  5  6  7]\n",
      " [ 8  9 10 11]]\n",
      "[ 0  1  2  3  4  5  6  7  8  9 10 11]\n"
     ]
    }
   ],
   "source": [
    "a = np.arange(12).reshape(3, 4)\n",
    "print(a)\n",
    "b = a.flatten()\n",
    "print(b)"
   ]
  },
  {
   "cell_type": "markdown",
   "metadata": {},
   "source": [
    "the `flat` attribute on the other hand gives a view of the array in 1D. It looks like an iterator object (like `range` and `zip`). This allows"
   ]
  },
  {
   "cell_type": "code",
   "execution_count": 50,
   "metadata": {},
   "outputs": [
    {
     "name": "stdout",
     "output_type": "stream",
     "text": [
      "[[   0    1    2    3]\n",
      " [   4    5 -999    7]\n",
      " [   8    9   10   11]]\n"
     ]
    }
   ],
   "source": [
    "a.flat[6] = -999\n",
    "print(a)"
   ]
  },
  {
   "cell_type": "markdown",
   "metadata": {},
   "source": [
    "In contrast, this does not work as expected.  _WHY?_"
   ]
  },
  {
   "cell_type": "code",
   "execution_count": 51,
   "metadata": {},
   "outputs": [
    {
     "name": "stdout",
     "output_type": "stream",
     "text": [
      "[[   0    1    2    3]\n",
      " [   4    5 -999    7]\n",
      " [   8    9   10   11]]\n"
     ]
    }
   ],
   "source": [
    "a.flatten()[5] = -888\n",
    "print(a)"
   ]
  },
  {
   "cell_type": "markdown",
   "metadata": {},
   "source": [
    "Other operations can be done to the array first. For example, we can take a transpose of the array before we flatten it."
   ]
  },
  {
   "cell_type": "code",
   "execution_count": 52,
   "metadata": {},
   "outputs": [
    {
     "name": "stdout",
     "output_type": "stream",
     "text": [
      "[[   0    1 -998    3]\n",
      " [   4    5 -999    7]\n",
      " [   8    9   10   11]]\n"
     ]
    }
   ],
   "source": [
    "a.T.flat[6] = -998\n",
    "print(a)"
   ]
  },
  {
   "cell_type": "markdown",
   "metadata": {},
   "source": [
    "Here, the `T` attribute (equivalent to the `a.transpose()` method) gives a view of the array transposed (similar to MATLAB's tick notation)."
   ]
  },
  {
   "cell_type": "code",
   "execution_count": 53,
   "metadata": {},
   "outputs": [
    {
     "name": "stdout",
     "output_type": "stream",
     "text": [
      "[[   0    4    8]\n",
      " [   1    5    9]\n",
      " [-998 -999   10]\n",
      " [   3    7   11]]\n"
     ]
    }
   ],
   "source": [
    "print(a.T)"
   ]
  },
  {
   "cell_type": "markdown",
   "metadata": {},
   "source": [
    "## Masked arrays\n",
    "\n",
    "Masked arrays are ways to create arrays with missing values. MATLAB&trade; uses NaNs (NaN stands for 'Not a Number'), and the NaNs are the values of the arrays at those points. This approach also works in Python. Masked arrays are preferred since they retain the masked array values, and also some plotting routines require masked arrays when plotting arrays with missing values. Masked arrays are usually created through some condition, like"
   ]
  },
  {
   "cell_type": "code",
   "execution_count": 54,
   "metadata": {},
   "outputs": [
    {
     "name": "stdout",
     "output_type": "stream",
     "text": [
      "[[-1.0881231430840717 -- -- -0.06985895153151903 -0.39456844028410526 --\n",
      "  -1.7116262824370327 -0.17846849164952305]\n",
      " [-1.8048114563498148 -- -0.25444776267871955 -- -- -1.1776662904468627\n",
      "  -0.7111613569343161 -0.6102787625078961]\n",
      " [-- -- -1.1671217822071174 -0.6249870443627835 -- -- -- --]\n",
      " [-- -- -0.019252698583875287 -- -- -0.47948803395405715\n",
      "  -0.5895968677414788 --]\n",
      " [-0.4253115230748398 -0.3404689807526255 -0.7151437858644933 --\n",
      "  -0.1795564538306736 -1.3920093961197206 -- -0.2424062302999424]\n",
      " [-1.3590808650333912 -- -- -- -- -- -- -1.235334603744818]\n",
      " [-0.24708919741345134 -- -0.5710299686799074 -- -0.7281928671548296 --\n",
      "  -- -0.0976455716711964]]\n"
     ]
    }
   ],
   "source": [
    "arr = np.random.randn(7, 8)\n",
    "cond = arr > 0.1   # `cond` is True for the random values greater than 0.5\n",
    "\n",
    "marr = np.ma.masked_where(cond, arr)\n",
    "\n",
    "print(marr)"
   ]
  },
  {
   "cell_type": "code",
   "execution_count": 55,
   "metadata": {
    "scrolled": true
   },
   "outputs": [
    {
     "data": {
      "text/plain": [
       "masked_array(data=[-0.9848832369911138, -0.3404689807526255,\n",
       "                   -0.5453991996028226, -0.34742299794715126,\n",
       "                   -0.4341059204232028, -1.0163879068402135,\n",
       "                   -1.0041281690376092, -0.47282673197467523],\n",
       "             mask=[False, False, False, False, False, False, False, False],\n",
       "       fill_value=1e+20)"
      ]
     },
     "execution_count": 55,
     "metadata": {},
     "output_type": "execute_result"
    }
   ],
   "source": [
    "marr.mean(axis=0)"
   ]
  },
  {
   "cell_type": "markdown",
   "metadata": {},
   "source": [
    "The mask can also be supplied explicity when creating the masked array,"
   ]
  },
  {
   "cell_type": "code",
   "execution_count": 56,
   "metadata": {},
   "outputs": [
    {
     "data": {
      "text/plain": [
       "masked_array(data=[--, --, 3, 4, --],\n",
       "             mask=[ True,  True, False, False,  True],\n",
       "       fill_value=999999)"
      ]
     },
     "execution_count": 56,
     "metadata": {},
     "output_type": "execute_result"
    }
   ],
   "source": [
    "marr = np.ma.masked_array([1, 2, 3, 4, 5], mask=[True, True, False, False, True])\n",
    "marr"
   ]
  },
  {
   "cell_type": "markdown",
   "metadata": {},
   "source": [
    "## Importing data\n",
    "\n",
    "One of the basic commands in `numpy` for loading in data is the `loadtxt` command. There are other ways to do this, such as the [`genfromtxt`](http://docs.scipy.org/doc/numpy-dev/user/basics.io.genfromtxt.html) command, but `loadtxt` is sufficient for most purposes, and is easy to use."
   ]
  },
  {
   "cell_type": "code",
   "execution_count": null,
   "metadata": {},
   "outputs": [],
   "source": [
    "### Only uncomment the following lines if using Google Colab to run this notebook\n",
    "### uncomment the two lines below here\n",
    "#from google.colab import drive\n",
    "#drive.mount('/content/gdrive')  # you'll need to click the link and authorize the notebook to access your Google drive\n",
    "                                 # then paste the authorization code into the box here; you'll need to use Ctrl+V to paste. \n",
    "\n",
    "\n",
    "    \n",
    "### now go to the file explorer on the right hand side of your Colab notebook and navigate to the folder where your notebook is located\n",
    "### the path shown below is the path on my Google drive; yours may differ\n",
    "### uncomment the three lines below here\n",
    "#your_directory_path = '/content/gdrive/MyDrive/python4geosciences/materials/Module 3'\n",
    "#import os\n",
    "#os.chdir(your_directory_path)"
   ]
  },
  {
   "cell_type": "code",
   "execution_count": 57,
   "metadata": {},
   "outputs": [
    {
     "data": {
      "text/plain": [
       "array([[ 2.013   ,  2.      , 26.5827  , 26.5823  ,  4.575059, 28.6303  ,\n",
       "        18.0579  ,  4.62032 ,  3.1596  , 56.9022  ,  2.8503  ,  0.62493 ,\n",
       "         0.3862  ,  3.9016  ,  2.6426  ,  2.5965  ,  1.731   ],\n",
       "       [ 2.515   ,  2.5     , 25.9263  , 25.9258  ,  4.727182, 30.1208  ,\n",
       "        19.3798  ,  4.37469 ,  3.0143  , 60.8058  ,  3.0417  ,  0.55938 ,\n",
       "         0.339   ,  3.7094  ,  2.6212  ,  2.6264  ,  1.751   ],\n",
       "       [ 3.02    ,  3.      , 25.3695  , 25.3688  ,  4.983968, 32.35    ,\n",
       "        21.2286  ,  4.04875 ,  2.8266  , 74.4409  ,  3.7104  ,  0.49003 ,\n",
       "         0.2819  ,  2.6419  ,  2.4727  ,  2.3413  ,  1.5609  ],\n",
       "       [ 3.524   ,  3.5     , 25.2304  , 25.2296  ,  5.016042, 32.6833  ,\n",
       "        21.5222  ,  3.86168 ,  2.7138  , 77.8474  ,  3.8774  ,  0.44482 ,\n",
       "         0.2396  ,  1.9937  ,  2.3524  ,  1.8684  ,  1.2456  ],\n",
       "       [ 4.026   ,  4.      , 24.568   , 24.5671  ,  5.051934, 33.4325  ,\n",
       "        22.2871  ,  3.42057 ,  2.4863  , 80.6842  ,  4.0166  ,  0.4113  ,\n",
       "         0.2056  ,  1.5597  ,  2.2455  ,  1.7666  ,  1.1777  ],\n",
       "       [ 4.531   ,  4.5     , 24.6885  , 24.6875  ,  5.193132, 34.3913  ,\n",
       "        22.9757  ,  3.66067 ,  2.6229  , 83.2554  ,  4.1427  ,  0.38664 ,\n",
       "         0.1791  ,  0.9636  ,  2.0401  ,  1.6703  ,  1.1135  ],\n",
       "       [ 5.034   ,  5.      , 24.7855  , 24.7844  ,  5.241169, 34.6742  ,\n",
       "        23.1603  ,  3.7742  ,  2.686   , 82.4341  ,  4.1024  ,  0.3765  ,\n",
       "         0.1675  ,  0.6497  ,  1.8711  ,  1.6017  ,  1.0678  ],\n",
       "       [ 5.538   ,  5.5     , 24.7213  , 24.7201  ,  5.263355, 34.8889  ,\n",
       "        23.342   ,  3.80708 ,  2.7     , 81.7989  ,  4.0712  ,  0.36692 ,\n",
       "         0.1563  ,  0.5132  ,  1.775   ,  1.5905  ,  1.0603  ],\n",
       "       [ 6.04    ,  6.      , 24.5692  , 24.5679  ,  5.285194, 35.1705  ,\n",
       "        23.6008  ,  3.78426 ,  2.6834  , 82.4157  ,  4.1015  ,  0.35886 ,\n",
       "         0.1467  ,  0.4507  ,  1.7205  ,  1.6583  ,  1.1056  ],\n",
       "       [ 6.545   ,  6.5     , 24.3945  , 24.3931  ,  5.285643, 35.3111  ,\n",
       "        23.7597  ,  3.64367 ,  2.6034  , 83.0791  ,  4.134   ,  0.35486 ,\n",
       "         0.1418  ,  0.4163  ,  1.6878  ,  1.6521  ,  1.1014  ],\n",
       "       [ 7.047   ,  7.      , 24.3252  , 24.3237  ,  5.299917, 35.4731  ,\n",
       "        23.9031  ,  3.52267 ,  2.534   , 83.8917  ,  4.1739  ,  0.35048 ,\n",
       "         0.1364  ,  0.4251  ,  1.6965  ,  1.6019  ,  1.068   ],\n",
       "       [ 7.551   ,  7.5     , 24.2424  , 24.2408  ,  5.301194, 35.5484  ,\n",
       "        23.9849  ,  3.47868 ,  2.5075  , 84.3093  ,  4.1943  ,  0.34609 ,\n",
       "         0.1309  ,  0.4295  ,  1.7007  ,  1.5436  ,  1.0291  ],\n",
       "       [ 8.055   ,  8.      , 24.1822  , 24.1805  ,  5.298561, 35.5763  ,\n",
       "        24.024   ,  3.46935 ,  2.4986  , 84.2073  ,  4.1893  ,  0.34559 ,\n",
       "         0.1303  ,  0.4557  ,  1.7255  ,  1.5279  ,  1.0186  ],\n",
       "       [ 8.558   ,  8.5     , 24.1057  , 24.1039  ,  5.294033, 35.6029  ,\n",
       "        24.067   ,  3.46966 ,  2.4961  , 83.9218  ,  4.1754  ,  0.34049 ,\n",
       "         0.1238  ,  0.4944  ,  1.7596  ,  1.5275  ,  1.0183  ],\n",
       "       [ 9.06    ,  9.      , 23.9863  , 23.9844  ,  5.290402, 35.6708  ,\n",
       "        24.154   ,  3.44662 ,  2.4813  , 84.2771  ,  4.1928  ,  0.33726 ,\n",
       "         0.1197  ,  0.4986  ,  1.7632  ,  1.5505  ,  1.0336  ],\n",
       "       [ 9.567   ,  9.5     , 23.9235  , 23.9215  ,  5.290679, 35.7231  ,\n",
       "        24.2123  ,  3.43409 ,  2.4702  , 84.8025  ,  4.2185  ,  0.33329 ,\n",
       "         0.1146  ,  0.5074  ,  1.7705  ,  1.5558  ,  1.0372  ],\n",
       "       [10.067   , 10.      , 23.8288  , 23.8267  ,  5.283119, 35.7416  ,\n",
       "        24.2544  ,  3.42576 ,  2.4632  , 85.0635  ,  4.2313  ,  0.33077 ,\n",
       "         0.1113  ,  0.5162  ,  1.7777  ,  1.5155  ,  1.0103  ],\n",
       "       [10.571   , 10.5     , 23.7446  , 23.7424  ,  5.276477, 35.7587  ,\n",
       "        24.2922  ,  3.43403 ,  2.4655  , 85.3002  ,  4.2429  ,  0.32903 ,\n",
       "         0.109   ,  0.5069  ,  1.7701  ,  1.5265  ,  1.0177  ],\n",
       "       [11.076   , 11.      , 23.6302  , 23.6279  ,  5.264635, 35.7604  ,\n",
       "        24.3272  ,  3.42438 ,  2.4636  , 85.1457  ,  4.2354  ,  0.32783 ,\n",
       "         0.1074  ,  0.496   ,  1.761   ,  1.5267  ,  1.0178  ],\n",
       "       [11.578   , 11.5     , 23.711   , 23.7086  ,  5.284763, 35.8487  ,\n",
       "        24.3704  ,  3.43764 ,  2.4638  , 85.4358  ,  4.2496  ,  0.32717 ,\n",
       "         0.1065  ,  0.4916  ,  1.7572  ,  1.5157  ,  1.0105  ],\n",
       "       [12.081   , 12.      , 23.6082  , 23.6057  ,  5.27541 , 35.8603  ,\n",
       "        24.4095  ,  3.36434 ,  2.4213  , 85.9359  ,  4.2741  ,  0.32633 ,\n",
       "         0.1054  ,  0.4552  ,  1.7243  ,  1.5121  ,  1.0081  ],\n",
       "       [12.587   , 12.5     , 23.4458  , 23.4432  ,  5.257677, 35.856   ,\n",
       "        24.4539  ,  3.18706 ,  2.3248  , 86.0294  ,  4.2787  ,  0.32615 ,\n",
       "         0.1052  ,  0.3793  ,  1.6496  ,  1.5069  ,  1.0046  ],\n",
       "       [13.088   , 13.      , 23.4764  , 23.4737  ,  5.268183, 35.9116  ,\n",
       "        24.4871  ,  3.09821 ,  2.2753  , 85.5425  ,  4.2548  ,  0.32522 ,\n",
       "         0.104   ,  0.3807  ,  1.6506  ,  1.4974  ,  0.9983  ],\n",
       "       [13.591   , 13.5     , 23.4612  , 23.4584  ,  5.267762, 35.9205  ,\n",
       "        24.4984  ,  3.07823 ,  2.2635  , 85.2657  ,  4.2413  ,  0.32498 ,\n",
       "         0.1036  ,  0.3578  ,  1.6248  ,  1.5346  ,  1.0231  ],\n",
       "       [14.096   , 14.      , 23.4353  , 23.4324  ,  5.264903, 35.9195  ,\n",
       "        24.5052  ,  3.05358 ,  2.2483  , 84.5898  ,  4.2081  ,  0.32371 ,\n",
       "         0.1019  ,  0.3382  ,  1.6016  ,  1.5619  ,  1.0412  ],\n",
       "       [14.599   , 14.5     , 23.4063  , 23.4033  ,  5.261464, 35.9165  ,\n",
       "        24.5115  ,  3.01636 ,  2.2263  , 84.6701  ,  4.212   ,  0.3233  ,\n",
       "         0.1013  ,  0.3309  ,  1.5927  ,  1.5621  ,  1.0414  ],\n",
       "       [15.102   , 15.      , 23.358   , 23.3549  ,  5.255675, 35.9111  ,\n",
       "        24.5216  ,  2.96978 ,  2.1993  , 83.9191  ,  4.1752  ,  0.32317 ,\n",
       "         0.1011  ,  0.3299  ,  1.5914  ,  1.6069  ,  1.0713  ],\n",
       "       [15.605   , 15.5     , 23.3041  , 23.3009  ,  5.249433, 35.9069  ,\n",
       "        24.5341  ,  2.88443 ,  2.1502  , 81.1542  ,  4.0396  ,  0.32255 ,\n",
       "         0.1003  ,  0.3081  ,  1.5633  ,  1.6936  ,  1.129   ],\n",
       "       [16.11    , 16.      , 23.2337  , 23.2304  ,  5.241798, 35.9053  ,\n",
       "        24.5535  ,  2.73975 ,  2.069   , 74.5688  ,  3.7167  ,  0.32235 ,\n",
       "         0.1001  ,  0.3045  ,  1.5584  ,  1.8209  ,  1.214   ],\n",
       "       [16.612   , 16.5     , 23.1621  , 23.1587  ,  5.234012, 35.9035  ,\n",
       "        24.573   ,  2.58368 ,  1.984   , 65.1178  ,  3.2532  ,  0.32243 ,\n",
       "         0.1002  ,  0.2852  ,  1.5315  ,  2.2357  ,  1.4905  ],\n",
       "       [17.116   , 17.      , 23.1239  , 23.1204  ,  5.229688, 35.9011  ,\n",
       "        24.5823  ,  2.4569  ,  1.9128  , 58.2498  ,  2.9164  ,  0.32238 ,\n",
       "         0.1001  ,  0.2765  ,  1.519   ,  2.8591  ,  1.9061  ],\n",
       "       [17.619   , 17.5     , 23.045   , 23.0414  ,  5.220671, 35.8957  ,\n",
       "        24.6011  ,  2.27295 ,  1.8119  , 47.6081  ,  2.3945  ,  0.32241 ,\n",
       "         0.1002  ,  0.2598  ,  1.4936  ,  3.8565  ,  2.571   ],\n",
       "       [18.123   , 18.      , 23.0066  , 23.0029  ,  5.216195, 35.8923  ,\n",
       "        24.6097  ,  2.16211 ,  1.7508  , 41.5527  ,  2.0975  ,  0.32158 ,\n",
       "         0.099   ,  0.2406  ,  1.4625  ,  4.9708  ,  3.3139  ],\n",
       "       [18.626   , 18.5     , 22.9947  , 22.9909  ,  5.214803, 35.891   ,\n",
       "        24.6122  ,  2.12785 ,  1.732   , 39.7434  ,  2.0088  ,  0.32075 ,\n",
       "         0.098   ,  0.2415  ,  1.464   ,  5.4901  ,  3.6601  ],\n",
       "       [19.129   , 19.      , 22.9833  , 22.9794  ,  5.213493, 35.8901  ,\n",
       "        24.6148  ,  2.09126 ,  1.712   , 38.8811  ,  1.9665  ,  0.32066 ,\n",
       "         0.0978  ,  0.2388  ,  1.4596  ,  5.2755  ,  3.517   ],\n",
       "       [19.633   , 19.5     , 22.9804  , 22.9764  ,  5.213144, 35.8895  ,\n",
       "        24.6153  ,  2.08627 ,  1.7092  , 36.7616  ,  1.8626  ,  0.32065 ,\n",
       "         0.0978  ,  0.2401  ,  1.4615  ,  6.0477  ,  4.0318  ],\n",
       "       [20.133   , 20.      , 22.9798  , 22.9757  ,  5.21312 , 35.8897  ,\n",
       "        24.6156  ,  2.07638 ,  1.7039  , 36.5524  ,  1.8523  ,  0.32527 ,\n",
       "         0.104   ,  0.2352  ,  1.4535  ,  6.4111  ,  4.2741  ]])"
      ]
     },
     "execution_count": 57,
     "metadata": {},
     "output_type": "execute_result"
    }
   ],
   "source": [
    "data = np.loadtxt('../data/CTD.txt', comments='*')\n",
    "data[:,2]    # a column of data representing temperature\n",
    "data"
   ]
  },
  {
   "cell_type": "markdown",
   "metadata": {},
   "source": [
    "---\n",
    "### *Exercise*\n",
    "\n",
    "> Read in the oceanographic data file '../data/CTD.txt' into an array. You can look at the data file itself to see what variables are stored in each column.\n",
    "\n",
    "> Using this data, write a function to calculate the linear equation of state. This is an approximation of the density of water, as it depends on salinity, temperature, and some empirical constants. We will use the following form for the linear equation of state:\n",
    "\n",
    "> $\\rho = 1027[1+7.6\\times 10^{-4}(S-35) -1.7\\times 10^{-4}(T-25)]$\n",
    "\n",
    "> where $\\rho$ is the density, $S$ is the salinity, and $T$ is the temperature.\n",
    "\n",
    "> This is more free form than the homework, so you should set up all of the associated code to call the function, and write out the function yourself. Don't forget docstrings! For a check, the first value of your density array in order should equal 1021.7519981630001 and the last should equal 1028.0471353619998.\n",
    "\n",
    "---"
   ]
  },
  {
   "cell_type": "code",
   "execution_count": null,
   "metadata": {},
   "outputs": [],
   "source": []
  },
  {
   "cell_type": "markdown",
   "metadata": {},
   "source": [
    "## Polynomial fitting\n",
    "\n",
    "The basic function for fitting a polynomial (e.g., a straight line) is `np.polyfit(x, y, deg)`. There are a number of other functions that let you add (`np.polyadd`), multiply (`np.polymul`), find zeros (`np.roots`), and do other operations to polynomials."
   ]
  },
  {
   "cell_type": "code",
   "execution_count": 58,
   "metadata": {},
   "outputs": [
    {
     "name": "stdout",
     "output_type": "stream",
     "text": [
      "[3.03335589 4.97700918]\n"
     ]
    }
   ],
   "source": [
    "x = np.random.rand(100)\n",
    "y = 5 + 3*x + 0.1*np.random.randn(100)   # A straight line with some noise\n",
    "\n",
    "p = np.polyfit(x, y, 1)  # fit a straight line (order is 1)\n",
    "print(p)  # The coefficients of the polynomial, with highest order first. (i.e,. [slope, intercept])"
   ]
  },
  {
   "cell_type": "markdown",
   "metadata": {},
   "source": [
    "Let's plot it to make sure this makes sense:"
   ]
  },
  {
   "cell_type": "code",
   "execution_count": 59,
   "metadata": {},
   "outputs": [
    {
     "data": {
      "text/plain": [
       "<matplotlib.legend.Legend at 0x14d09405860>"
      ]
     },
     "execution_count": 59,
     "metadata": {},
     "output_type": "execute_result"
    },
    {
     "data": {
      "image/png": "[encoded data removed]",
      "text/plain": [
       "<Figure size 432x288 with 1 Axes>"
      ]
     },
     "metadata": {
      "needs_background": "light"
     },
     "output_type": "display_data"
    }
   ],
   "source": [
    "import matplotlib.pyplot as plt\n",
    "%matplotlib inline\n",
    "\n",
    "# plot data\n",
    "plt.plot(x, y, '.')\n",
    "\n",
    "# plot fitted line\n",
    "plt.plot(x, p[0]*x + p[1])\n",
    "\n",
    "plt.legend(('Data', 'Fitted line'))"
   ]
  },
  {
   "cell_type": "markdown",
   "metadata": {},
   "source": [
    "Once you have the fit, you can use it to find other useful things, like the value of the fitted line at $x=1$:"
   ]
  },
  {
   "cell_type": "code",
   "execution_count": 60,
   "metadata": {},
   "outputs": [
    {
     "data": {
      "text/plain": [
       "8.01036507296102"
      ]
     },
     "execution_count": 60,
     "metadata": {},
     "output_type": "execute_result"
    }
   ],
   "source": [
    "np.polyval(p, 1)"
   ]
  },
  {
   "cell_type": "markdown",
   "metadata": {},
   "source": [
    "You can also use the `np.polynomial.Polynomial` class to work with polynomials. Note, these define polynomials the opposite way, with the _lowest_ order first. The Polynomial class gives an excellent example of operator overloading, and the flexibility of classes."
   ]
  },
  {
   "cell_type": "code",
   "execution_count": 61,
   "metadata": {},
   "outputs": [],
   "source": [
    "p1 = np.polynomial.Polynomial([5, 3])         # y = 5 + 3 x\n",
    "p2 = np.polynomial.Polynomial([3, 6, 8, 2])   # y = 3 + 6 x + 8 x**2 + 2 x**3"
   ]
  },
  {
   "cell_type": "markdown",
   "metadata": {},
   "source": [
    "You can use the Polynomial object to evaluate the value of the polynomial at various input values:"
   ]
  },
  {
   "cell_type": "code",
   "execution_count": 62,
   "metadata": {},
   "outputs": [
    {
     "name": "stdout",
     "output_type": "stream",
     "text": [
      "Evaluation\n",
      "p1(0.0) =  5.0\n",
      "p2(5.0) =  483.0\n"
     ]
    }
   ],
   "source": [
    "print('Evaluation')\n",
    "print('p1(0.0) = ', p1(0))\n",
    "print('p2(5.0) = ', p2(5))"
   ]
  },
  {
   "cell_type": "markdown",
   "metadata": {},
   "source": [
    "We can use this to make a plot to see the function:"
   ]
  },
  {
   "cell_type": "code",
   "execution_count": 63,
   "metadata": {},
   "outputs": [
    {
     "data": {
      "text/plain": [
       "<matplotlib.legend.Legend at 0x14d094d2ac8>"
      ]
     },
     "execution_count": 63,
     "metadata": {},
     "output_type": "execute_result"
    },
    {
     "data": {
      "image/png": "[encoded data removed]",
      "text/plain": [
       "<Figure size 432x288 with 1 Axes>"
      ]
     },
     "metadata": {
      "needs_background": "light"
     },
     "output_type": "display_data"
    }
   ],
   "source": [
    "x = np.linspace(0,10)\n",
    "plt.plot(x, p1(x), x, p2(x))\n",
    "plt.legend(['p1', 'p2'])"
   ]
  },
  {
   "cell_type": "markdown",
   "metadata": {},
   "source": [
    "Other things we can do:"
   ]
  },
  {
   "cell_type": "code",
   "execution_count": 64,
   "metadata": {
    "scrolled": true
   },
   "outputs": [
    {
     "name": "stdout",
     "output_type": "stream",
     "text": [
      "Roots\n",
      "Roots of p2 =  [-3.2112427 +0.j         -0.39437865-0.55818847j -0.39437865+0.55818847j]\n",
      "\n",
      "Operations\n",
      "p1 + p2 =  poly([8. 9. 8. 2.])\n",
      "p1 * p2 =  poly([15. 39. 58. 34.  6.])\n",
      "\n",
      "Calculus\n",
      "Derivative of p1 poly([3.])\n",
      "Integral of p2 poly([1.         2.         1.5        0.66666667 0.125      0.05\n",
      " 0.02222222 0.00238095])\n"
     ]
    }
   ],
   "source": [
    "print('Roots')\n",
    "print('Roots of p2 = ', p2.roots())\n",
    "print()\n",
    "print('Operations')\n",
    "print('p1 + p2 = ', p1 + p2)\n",
    "print('p1 * p2 = ', p1 * p2)\n",
    "print()\n",
    "print('Calculus')\n",
    "print('Derivative of p1', p1.deriv(1))\n",
    "print('Integral of p2', p2.integ(4, k=[4, 3, 2, 1]))"
   ]
  },
  {
   "cell_type": "markdown",
   "metadata": {},
   "source": [
    "## Vectorization\n",
    "\n",
    "Vectorization and array broadcasting are two big reasons that `numpy` can be efficient and fast. With these tools, you can avoid writing for loops (which are slow).\n",
    "\n",
    "The best way to do mathematical operations using `numpy` arrays is to do `vector` operations. That is, mathematical operations are defined to be element by element, and this is done much faster than looping. As a rule of thumb, you should be very concerned if your code has more than one significant `for` loop in the numerical analysis section.\n",
    "\n",
    "Here is a way to do multiply 2 big arrays using for loops, which is not how you should do it. The sum at the end is included for comparison with the subsequent approach."
   ]
  },
  {
   "cell_type": "code",
   "execution_count": 65,
   "metadata": {},
   "outputs": [
    {
     "name": "stdout",
     "output_type": "stream",
     "text": [
      "2617700322.7307653\n"
     ]
    }
   ],
   "source": [
    "a = np.arange(102400.0).reshape(4, 8, 1600, 2)   # a 4D array using sequential numbers\n",
    "b = np.random.rand(4, 8, 1600, 2)                # a 4D array using random numbers\n",
    "\n",
    "li, lj, lk, lm = b.shape  # size of b in each dimension\n",
    "sol = np.zeros(b.shape)\n",
    "for i in range(li):\n",
    "    for j in range(lj):\n",
    "        for k in range(lk):\n",
    "            for m in range(lm):\n",
    "                sol[i,j,k,m] = a[i,j,k,m]*b[i,j,k,m]\n",
    "print(sol.sum())"
   ]
  },
  {
   "cell_type": "markdown",
   "metadata": {},
   "source": [
    "The better way is to directly multiply the arrays together, taking advantage of C code that Python has in the background."
   ]
  },
  {
   "cell_type": "code",
   "execution_count": 66,
   "metadata": {},
   "outputs": [
    {
     "name": "stdout",
     "output_type": "stream",
     "text": [
      "2617700322.7307653\n"
     ]
    }
   ],
   "source": [
    "sol = a * b       # element-by-element multiplication. This operation is about as fast as it can be on your computer.\n",
    "print(sol.sum())"
   ]
  },
  {
   "cell_type": "markdown",
   "metadata": {},
   "source": [
    "## Basic performance evaluation\n",
    "\n",
    "We can do some very basic perfomance testing using the `%time` special function in jupyter notebooks. Lets use this to examine the time it takes to do a singular value decomposition for different sized matrices."
   ]
  },
  {
   "cell_type": "code",
   "execution_count": 67,
   "metadata": {},
   "outputs": [
    {
     "name": "stdout",
     "output_type": "stream",
     "text": [
      "Wall time: 2.42 s\n"
     ]
    }
   ],
   "source": [
    "b = np.random.randn(5000, 2000)\n",
    "%time u, s, v = np.linalg.svd(b)"
   ]
  },
  {
   "cell_type": "markdown",
   "metadata": {},
   "source": [
    "`%time` runs the line once and gives the time required. However, calculation times vary depending on many things including the numbers involved and the state of your computer at the moment. In this case, the `%timeit` function can be used to perform the test a number of times to get an average calculation time."
   ]
  },
  {
   "cell_type": "code",
   "execution_count": 68,
   "metadata": {},
   "outputs": [
    {
     "name": "stdout",
     "output_type": "stream",
     "text": [
      "108 µs ± 340 ns per loop (mean ± std. dev. of 7 runs, 10000 loops each)\n"
     ]
    }
   ],
   "source": [
    "%timeit b = np.random.randn(50, 20); u, s, v = np.linalg.svd(b)"
   ]
  },
  {
   "cell_type": "markdown",
   "metadata": {},
   "source": [
    "For statements that are longer than a single line, the `time.time` function can be used."
   ]
  },
  {
   "cell_type": "code",
   "execution_count": 69,
   "metadata": {},
   "outputs": [
    {
     "name": "stdout",
     "output_type": "stream",
     "text": [
      "0.2501 seconds have passed.\n"
     ]
    }
   ],
   "source": [
    "import time\n",
    "\n",
    "t_start = time.time()\n",
    "time.sleep(0.25)   # Do nothing for 0.25 seconds\n",
    "t_stop = time.time()\n",
    "\n",
    "print('{:6.4f} seconds have passed.'.format(t_stop-t_start))"
   ]
  },
  {
   "cell_type": "markdown",
   "metadata": {},
   "source": [
    "---\n",
    "### *Exercise*\n",
    "\n",
    "> Earlier, we discussed using array operations instead of looping because it is faster. Let's compare.\n",
    "\n",
    "> Calculate the time it takes to calculate the $a$ and $b$ arrays with dimensions [4, 8, 1600, 2] by both methods demonstrated: using a series of 4 `for` loops, one for each dimension of the arrays and using array operations. Compare the times by calculating a ratio.\n",
    "\n",
    "---"
   ]
  },
  {
   "cell_type": "code",
   "execution_count": null,
   "metadata": {},
   "outputs": [],
   "source": []
  },
  {
   "cell_type": "markdown",
   "metadata": {},
   "source": [
    "## Linear algebra\n",
    "\n",
    "One of the key elements of the `numpy` package is the `numpy.linalg` subpackage that contains a number of linear algebra functions that work efficiently on arrays."
   ]
  },
  {
   "cell_type": "code",
   "execution_count": 70,
   "metadata": {},
   "outputs": [],
   "source": [
    "a = np.random.randn(100, 100)\n",
    "e, v = np.linalg.eig(a)\n",
    "\n",
    "b = np.random.randn(500, 200)\n",
    "u, s, v = np.linalg.svd(b)"
   ]
  },
  {
   "cell_type": "markdown",
   "metadata": {},
   "source": [
    "Matrix multiplication is done using the `np.dot` function. In this case, matrices do _not_ need to be the same shape, but must follow the rules of matrix multiplication. E.g., the operation dot(<4x5 array>, <5x12 array>) results in a 4x12 array; i.e., the inner dimensions must match (technically last and second-to-last, for arrays with more than two dimensions).   "
   ]
  },
  {
   "cell_type": "code",
   "execution_count": 71,
   "metadata": {},
   "outputs": [
    {
     "name": "stdout",
     "output_type": "stream",
     "text": [
      "(4, 12)\n"
     ]
    }
   ],
   "source": [
    "x = np.random.rand(4, 5)\n",
    "y = np.random.rand(5, 12)\n",
    "\n",
    "res = np.dot(x, y)\n",
    "print(res.shape)\n",
    "\n",
    "# np.dot(y, x)  # This gives an error -- order is important."
   ]
  },
  {
   "cell_type": "markdown",
   "metadata": {},
   "source": [
    "---\n",
    "---\n",
    "### *Exercise*\n",
    "\n",
    "> Output from a numerical model of the northwestern Gulf of Mexico are saved in a file `../data/model.npz`. Read in this file using `np.load`. Among other things, it contains `h`, the depths within the numerical domain, and `ssh`, the sea surface heights at two time steps. The sea surface height gives the deviation above and below sea level from a reference water level (which changes in time as the water moves), and the depths of the seabed are also given with respect to that reference water level. \n",
    "\n",
    "> Find the full water column depth, between the seabed and the sea surface, for the two given times. \n",
    "\n",
    "> You can use as a comparison that at the first time step the [0,0] value of this array should be 3007.6088347392124, and at the second time step the [0,-1] value should be 605.25282427018749. Note that there is a differences between the two time steps though it is generally quite small since it is the difference between time steps in the numerical circulation model.\n",
    "\n",
    "> Don't forget array conventions, repeated here for convenience:\n",
    "\n",
    "    Generally, you will want to think of arrays as representing dimensions in space and time. The conventional way to think of this is that the dimensions are $(t, z, y, x)$; missing dimensions are omitted. This will help make plotting and analysis easier. Some examples might be:\n",
    "\n",
    "    temp[:, :, :, :]     # A 4D array (time, height, latitude, longitude)\n",
    "    press[:, :]          # A 2D array (time, height)\n",
    "    humid[:, :]          # A 2D array (latitude, longitude)\n",
    "---"
   ]
  },
  {
   "cell_type": "code",
   "execution_count": null,
   "metadata": {
    "collapsed": true
   },
   "outputs": [],
   "source": []
  }
 ],
 "metadata": {
  "anaconda-cloud": {},
  "kernelspec": {
   "display_name": "Python 3",
   "language": "python",
   "name": "python3"
  },
  "language_info": {
   "codemirror_mode": {
    "name": "ipython",
    "version": 3
   },
   "file_extension": ".py",
   "mimetype": "text/x-python",
   "name": "python",
   "nbconvert_exporter": "python",
   "pygments_lexer": "ipython3",
   "version": "3.6.12"
  }
 },
 "nbformat": 4,
 "nbformat_minor": 1
}
